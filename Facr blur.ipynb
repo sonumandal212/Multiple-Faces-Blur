{
 "cells": [
  {
   "cell_type": "code",
   "execution_count": 1,
   "id": "f1ad3ff7",
   "metadata": {},
   "outputs": [],
   "source": [
    "import cv2"
   ]
  },
  {
   "cell_type": "code",
   "execution_count": 2,
   "id": "3057d194",
   "metadata": {},
   "outputs": [],
   "source": [
    "from cvzone.FaceDetectionModule import FaceDetector"
   ]
  },
  {
   "cell_type": "code",
   "execution_count": 3,
   "id": "c0c9dfe1",
   "metadata": {},
   "outputs": [],
   "source": [
    "cap = cv2.VideoCapture(0)"
   ]
  },
  {
   "cell_type": "code",
   "execution_count": 4,
   "id": "4d8130bd",
   "metadata": {},
   "outputs": [
    {
     "data": {
      "text/plain": [
       "True"
      ]
     },
     "execution_count": 4,
     "metadata": {},
     "output_type": "execute_result"
    }
   ],
   "source": [
    "cap.set(3,640)#width , here id=3\n",
    "cap.set(4,480)#height , here id=4\n",
    "\n"
   ]
  },
  {
   "cell_type": "code",
   "execution_count": 5,
   "id": "583e1625",
   "metadata": {},
   "outputs": [],
   "source": [
    "detector = FaceDetector(minDetectionCon=0.75)"
   ]
  },
  {
   "cell_type": "code",
   "execution_count": 6,
   "id": "f2605eee",
   "metadata": {},
   "outputs": [],
   "source": [
    "while True:\n",
    "    success, img = cap.read()\n",
    "    img, bboxs = detector.findFaces(img,draw=True)\n",
    "    \n",
    "    if bboxs:\n",
    "        for i, bbox in enumerate(bboxs):\n",
    "            x, y, w, h = bbox['bbox']\n",
    "            if x<0 :\n",
    "                x=0\n",
    "            if y<0:\n",
    "                y=0\n",
    "            imgCrop = img[y:y+h , x:x+w]\n",
    "#             cv2.imshow(f'Image Cropped {i}', imgCrop)\n",
    "            imgBlur = cv2.blur(imgCrop,(35,35))\n",
    "            img[y:y+h , x:x+w]=imgBlur\n",
    "    \n",
    "    cv2.imshow(\"Image\", img)\n",
    "    cv2.waitKey(1)\n",
    "    if cv2.waitKey(10) & 0xFF == ord('q'):\n",
    "        break\n"
   ]
  },
  {
   "cell_type": "code",
   "execution_count": null,
   "id": "dae7a1aa",
   "metadata": {},
   "outputs": [],
   "source": []
  },
  {
   "cell_type": "code",
   "execution_count": null,
   "id": "179b4419",
   "metadata": {},
   "outputs": [],
   "source": []
  }
 ],
 "metadata": {
  "kernelspec": {
   "display_name": "Python 3 (ipykernel)",
   "language": "python",
   "name": "python3"
  },
  "language_info": {
   "codemirror_mode": {
    "name": "ipython",
    "version": 3
   },
   "file_extension": ".py",
   "mimetype": "text/x-python",
   "name": "python",
   "nbconvert_exporter": "python",
   "pygments_lexer": "ipython3",
   "version": "3.10.9"
  }
 },
 "nbformat": 4,
 "nbformat_minor": 5
}
